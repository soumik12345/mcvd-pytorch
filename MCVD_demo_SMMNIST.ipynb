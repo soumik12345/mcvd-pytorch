{
 "cells": [
  {
   "cell_type": "code",
   "execution_count": 1,
   "id": "7636673f",
   "metadata": {},
   "outputs": [],
   "source": [
    "%load_ext autoreload\n",
    "%autoreload 2\n",
    "import sys, os"
   ]
  },
  {
   "cell_type": "code",
   "execution_count": 29,
   "id": "4c28d3ce",
   "metadata": {},
   "outputs": [],
   "source": [
    "import glob, os\n",
    "import yaml\n",
    "import wandb\n",
    "# import mediapy as media\n",
    "import torch\n",
    "from torch.utils.data import DataLoader\n",
    "import numpy as np\n",
    "import matplotlib.pyplot as plt\n",
    "\n",
    "from load_model_from_ckpt import load_model, get_sampler, init_samples\n",
    "from datasets import get_dataset, data_transform, inverse_data_transform\n",
    "from runners.ncsn_runner import conditioning_fn\n",
    "\n",
    "from collections import OrderedDict\n",
    "from functools import partial\n",
    "from imageio import mimwrite\n",
    "from torch.utils.data import DataLoader\n",
    "from torchvision.utils import make_grid, save_image\n",
    "\n",
    "try:\n",
    "    from torchvision.transforms.functional import resize, InterpolationMode\n",
    "    interp = InterpolationMode.NEAREST\n",
    "except:\n",
    "    from torchvision.transforms.functional import resize\n",
    "    interp = 0\n",
    "\n",
    "from datasets import get_dataset, data_transform, inverse_data_transform\n",
    "from main import dict2namespace\n",
    "from models import get_sigmas, anneal_Langevin_dynamics, anneal_Langevin_dynamics_consistent, ddpm_sampler, ddim_sampler, FPNDM_sampler\n",
    "from models.ema import EMAHelper\n",
    "from runners.ncsn_runner import get_model\n",
    "\n",
    "from os.path import expanduser\n",
    "home = expanduser(\"~\")\n",
    "\n",
    "device = torch.device('cuda') if torch.cuda.is_available() else torch.device('cpu')"
   ]
  },
  {
   "cell_type": "markdown",
   "id": "5d956de9-6fba-4824-bfdb-3d36b4178836",
   "metadata": {},
   "source": [
    "# Set directories to download model, data"
   ]
  },
  {
   "cell_type": "code",
   "execution_count": 3,
   "id": "08f0476c",
   "metadata": {},
   "outputs": [],
   "source": [
    "# SET THESE!!!\n",
    "GDRIVE_URL = \"https://drive.google.com/drive/folders/1bM6wqU_kymoljz5uYQRCYNup_8adBfLH\" # smmnist_big_5c5_unetm_b2\n",
    "EXP_PATH = os.path.join(home, \"scratch/MCVD_SMMNIST_pred\")\n",
    "DATA_PATH = os.path.join(home, \"scratch/Datasets/MNIST\")"
   ]
  },
  {
   "cell_type": "markdown",
   "id": "eefab24a",
   "metadata": {},
   "source": [
    "# Download experiment (model checkpoint, config, etc.)"
   ]
  },
  {
   "cell_type": "code",
   "execution_count": 4,
   "id": "eef31cee",
   "metadata": {
    "scrolled": true
   },
   "outputs": [],
   "source": [
    "# # GDRIVE_URL = GDRIVE_URL.removesuffix(\"?usp=sharing\")\n",
    "# !gdown --fuzzy {GDRIVE_URL} -O {EXP_PATH}/ --folder"
   ]
  },
  {
   "cell_type": "markdown",
   "id": "b7497708",
   "metadata": {},
   "source": [
    "# Load model checkpoint"
   ]
  },
  {
   "cell_type": "code",
   "execution_count": 5,
   "id": "6eb7d57b-dd89-4b1d-b65e-f131e29361c1",
   "metadata": {},
   "outputs": [
    {
     "name": "stderr",
     "output_type": "stream",
     "text": [
      "\u001b[34m\u001b[1mwandb\u001b[0m: Currently logged in as: \u001b[33mgeekyrakshit\u001b[0m (\u001b[33mwandb\u001b[0m). Use \u001b[1m`wandb login --relogin`\u001b[0m to force relogin\n"
     ]
    },
    {
     "data": {
      "application/vnd.jupyter.widget-view+json": {
       "model_id": "1475f0ddce834442842537a4ae929af2",
       "version_major": 2,
       "version_minor": 0
      },
      "text/plain": [
       "VBox(children=(Label(value='Waiting for wandb.init()...\\r'), FloatProgress(value=0.016670084716664254, max=1.0…"
      ]
     },
     "metadata": {},
     "output_type": "display_data"
    },
    {
     "data": {
      "text/html": [
       "wandb version 0.13.9 is available!  To upgrade, please run:\n",
       " $ pip install wandb --upgrade"
      ],
      "text/plain": [
       "<IPython.core.display.HTML object>"
      ]
     },
     "metadata": {},
     "output_type": "display_data"
    },
    {
     "data": {
      "text/html": [
       "Tracking run with wandb version 0.13.8"
      ],
      "text/plain": [
       "<IPython.core.display.HTML object>"
      ]
     },
     "metadata": {},
     "output_type": "display_data"
    },
    {
     "data": {
      "text/html": [
       "Run data is saved locally in <code>/home/jupyter/mcvd-pytorch/wandb/run-20230117_141544-ny87oxbj</code>"
      ],
      "text/plain": [
       "<IPython.core.display.HTML object>"
      ]
     },
     "metadata": {},
     "output_type": "display_data"
    },
    {
     "data": {
      "text/html": [
       "Syncing run <strong><a href=\"https://wandb.ai/wandb/masked-conditional-video-diffusion/runs/ny87oxbj\" target=\"_blank\">wandering-dust-37</a></strong> to <a href=\"https://wandb.ai/wandb/masked-conditional-video-diffusion\" target=\"_blank\">Weights & Biases</a> (<a href=\"https://wandb.me/run\" target=\"_blank\">docs</a>)<br/>"
      ],
      "text/plain": [
       "<IPython.core.display.HTML object>"
      ]
     },
     "metadata": {},
     "output_type": "display_data"
    },
    {
     "data": {
      "text/html": [
       " View project at <a href=\"https://wandb.ai/wandb/masked-conditional-video-diffusion\" target=\"_blank\">https://wandb.ai/wandb/masked-conditional-video-diffusion</a>"
      ],
      "text/plain": [
       "<IPython.core.display.HTML object>"
      ]
     },
     "metadata": {},
     "output_type": "display_data"
    },
    {
     "data": {
      "text/html": [
       " View run at <a href=\"https://wandb.ai/wandb/masked-conditional-video-diffusion/runs/ny87oxbj\" target=\"_blank\">https://wandb.ai/wandb/masked-conditional-video-diffusion/runs/ny87oxbj</a>"
      ],
      "text/plain": [
       "<IPython.core.display.HTML object>"
      ]
     },
     "metadata": {},
     "output_type": "display_data"
    },
    {
     "name": "stderr",
     "output_type": "stream",
     "text": [
      "\u001b[34m\u001b[1mwandb\u001b[0m: Downloading large artifact checkpoint-revived-sun-29-1f792ve5:v328, 426.94MB. 1 files... \n",
      "\u001b[34m\u001b[1mwandb\u001b[0m:   1 of 1 files downloaded.  \n",
      "Done. 0:0:0.1\n"
     ]
    }
   ],
   "source": [
    "wandb.init(project=\"masked-conditional-video-diffusion\", entity=\"wandb\", job_type=\"inference\")\n",
    "\n",
    "artifact = wandb.use_artifact(\n",
    "    'wandb/masked-conditional-video-diffusion/checkpoint-revived-sun-29-1f792ve5:v328', type='model'\n",
    ")\n",
    "artifact_dir = artifact.download()"
   ]
  },
  {
   "cell_type": "code",
   "execution_count": 6,
   "id": "c7372e70-7774-4904-b9eb-66bb640a3376",
   "metadata": {},
   "outputs": [],
   "source": [
    "def load_model(ckpt_path, config_path, device=device):\n",
    "    # Parse config file\n",
    "    # with open(os.path.join(os.path.dirname(ckpt_path), 'config.yml'), 'r') as f:\n",
    "    with open(config_path, \"r\") as f:\n",
    "        config = yaml.load(f, Loader=yaml.FullLoader)\n",
    "    # Load config file\n",
    "    config = dict2namespace(config)\n",
    "    config.device = device\n",
    "    # Load model\n",
    "    scorenet = get_model(config)\n",
    "    if config.device != torch.device('cpu'):\n",
    "        scorenet = torch.nn.DataParallel(scorenet)\n",
    "        states = torch.load(ckpt_path, map_location=config.device)\n",
    "    else:\n",
    "        states = torch.load(ckpt_path, map_location='cpu')\n",
    "        states[0] = OrderedDict([(k.replace('module.', ''), v) for k, v in states[0].items()])\n",
    "    scorenet.load_state_dict(states[0], strict=False)\n",
    "    if config.model.ema:\n",
    "        ema_helper = EMAHelper(mu=config.model.ema_rate)\n",
    "        ema_helper.register(scorenet)\n",
    "        ema_helper.load_state_dict(states[-1])\n",
    "        ema_helper.ema(scorenet)\n",
    "    scorenet.eval()\n",
    "    return scorenet, config"
   ]
  },
  {
   "cell_type": "code",
   "execution_count": 7,
   "id": "bed12d90",
   "metadata": {},
   "outputs": [],
   "source": [
    "# ckpt_path = glob.glob(os.path.join(EXP_PATH, \"checkpoint_*.pt\"))[0]\n",
    "ckpt_path = os.path.join(artifact_dir, \"checkpoint.pt\")\n",
    "config_path = \"./smmnist_cat/logs/config.yml\"\n",
    "scorenet, config = load_model(ckpt_path, config_path, device)\n",
    "sampler = get_sampler(config)"
   ]
  },
  {
   "cell_type": "code",
   "execution_count": 8,
   "id": "dc8c5945",
   "metadata": {},
   "outputs": [
    {
     "name": "stdout",
     "output_type": "stream",
     "text": [
      "cuda\n",
      "./artifacts/checkpoint-revived-sun-29-1f792ve5:v328/checkpoint.pt\n",
      "Namespace(data=Namespace(channels=1, dataset='StochasticMovingMNIST', gaussian_dequantization=False, image_size=64, logit_transform=False, num_digits=2, num_frames=5, num_frames_cond=5, num_frames_future=0, num_workers=0, prob_mask_cond=0.0, prob_mask_future=0.0, prob_mask_sync=False, random_flip=True, rescaled=True, step_length=0.1, uniform_dequantization=False), device=device(type='cuda'), fast_fid=Namespace(batch_size=1000, begin_ckpt=5000, end_ckpt=300000, ensemble=False, freq=5000, n_steps_each=0, num_samples=1000, pr_nn_k=3, step_lr=0.0, verbose=False), model=Namespace(arch='unetmore', attn_resolutions=[8, 16, 32], ch_mult=[1, 2, 3, 4], cond_emb=False, conditional=True, depth='deep', dropout=0.1, ema=True, ema_rate=0.999, gamma=False, n_head_channels=64, ngf=64, noise_in_cond=False, nonlinearity='swish', normalization='InstanceNorm++', num_classes=1000, num_res_blocks=2, output_all_frames=False, sigma_begin=0.02, sigma_dist='linear', sigma_end=0.0001, spade=False, spade_dim=128, spec_norm=False, time_conditional=True, type='v1', version='DDPM'), optim=Namespace(amsgrad=False, beta1=0.9, eps=1e-08, grad_clip=1.0, lr=0.0002, optimizer='Adam', warmup=1000, weight_decay=0.0), sampling=Namespace(batch_size=100, ckpt_id=0, clip_before=True, consistent=True, data_init=False, denoise=True, fid=False, final_only=True, fvd=True, init_prev_t=-1.0, inpainting=False, interpolation=False, max_data_iter=100000, n_interpolations=15, n_steps_each=0, num_frames_pred=20, num_samples4fid=10000, num_samples4fvd=10000, one_frame_at_a_time=False, preds_per_test=1, ssim=True, step_lr=0.0, subsample=1000, train=False), test=Namespace(batch_size=100, begin_ckpt=5000, end_ckpt=300000), training=Namespace(L1=False, batch_size=64, checkpoint_freq=100, log_all_sigmas=False, log_freq=50, n_epochs=1, n_iters=3000001, sample_freq=50000, snapshot_freq=1000, snapshot_sampling=True, val_freq=100))\n"
     ]
    }
   ],
   "source": [
    "print(device)\n",
    "print(ckpt_path)\n",
    "print(config)"
   ]
  },
  {
   "cell_type": "markdown",
   "id": "717769fc",
   "metadata": {},
   "source": [
    "# Load data"
   ]
  },
  {
   "cell_type": "code",
   "execution_count": 9,
   "id": "ed043f4b",
   "metadata": {},
   "outputs": [
    {
     "name": "stdout",
     "output_type": "stream",
     "text": [
      "Dataset length: 60000\n",
      "Dataset length: 256\n"
     ]
    }
   ],
   "source": [
    "dataset, test_dataset = get_dataset(DATA_PATH, config, video_frames_pred=config.data.num_frames)"
   ]
  },
  {
   "cell_type": "code",
   "execution_count": 10,
   "id": "277c205a",
   "metadata": {},
   "outputs": [
    {
     "name": "stdout",
     "output_type": "stream",
     "text": [
      "torch.Size([64, 10, 1, 64, 64])\n"
     ]
    }
   ],
   "source": [
    "# dataloader = DataLoader(dataset, batch_size=config.training.batch_size, shuffle=True,\n",
    "#                         num_workers=config.data.num_workers)\n",
    "# train_iter = iter(dataloader)\n",
    "# x, y = next(train_iter)\n",
    "\n",
    "test_loader = DataLoader(test_dataset, batch_size=config.training.batch_size, shuffle=False,\n",
    "                         num_workers=config.data.num_workers, drop_last=True)\n",
    "test_iter = iter(test_loader)\n",
    "test_x, test_y = next(test_iter)\n",
    "print(test_x.shape)"
   ]
  },
  {
   "cell_type": "code",
   "execution_count": 11,
   "id": "9cebee4b",
   "metadata": {},
   "outputs": [
    {
     "name": "stdout",
     "output_type": "stream",
     "text": [
      "torch.Size([64, 5, 64, 64]) torch.Size([64, 5, 64, 64])\n"
     ]
    }
   ],
   "source": [
    "test_x = data_transform(config, test_x)\n",
    "real, cond, cond_mask = conditioning_fn(config, test_x, num_frames_pred=config.data.num_frames,\n",
    "                                        prob_mask_cond=getattr(config.data, 'prob_mask_cond', 0.0),\n",
    "                                        prob_mask_future=getattr(config.data, 'prob_mask_future', 0.0))\n",
    "print(real.shape, cond.shape)"
   ]
  },
  {
   "cell_type": "code",
   "execution_count": 12,
   "id": "a4b6e45b",
   "metadata": {},
   "outputs": [],
   "source": [
    "i = 1\n",
    "# media.show_images(torch.cat([cond[i].permute(0, 2, 3, 1), real[i].permute(0, 2, 3, 1)]))\n",
    "# media.show_images(torch.cat([cond[i], real[i]]))"
   ]
  },
  {
   "cell_type": "markdown",
   "id": "2d37ea28",
   "metadata": {},
   "source": [
    "# Load initial samples"
   ]
  },
  {
   "cell_type": "code",
   "execution_count": 13,
   "id": "55bde034",
   "metadata": {},
   "outputs": [],
   "source": [
    "init = init_samples(len(real), config)"
   ]
  },
  {
   "cell_type": "code",
   "execution_count": 15,
   "id": "3149be9f-30a4-4af6-b508-781e1a007d4c",
   "metadata": {},
   "outputs": [],
   "source": [
    "initial_videos = [wandb.Video(video) for video in np.expand_dims(init.numpy().astype(\"uint8\"), 2)]"
   ]
  },
  {
   "cell_type": "markdown",
   "id": "47b62c71",
   "metadata": {},
   "source": [
    "# Predict"
   ]
  },
  {
   "cell_type": "code",
   "execution_count": 16,
   "id": "5d2a372b",
   "metadata": {
    "scrolled": true
   },
   "outputs": [
    {
     "name": "stdout",
     "output_type": "stream",
     "text": [
      "DDPM: 1/100, grad_norm: 143.30006408691406, image_norm: 129.5353240966797, grad_mean_norm: 318.3670959472656\n",
      "DDPM: 10/100, grad_norm: 143.27708435058594, image_norm: 130.7099609375, grad_mean_norm: 315.30255126953125\n",
      "DDPM: 20/100, grad_norm: 143.26019287109375, image_norm: 131.80184936523438, grad_mean_norm: 320.05780029296875\n",
      "DDPM: 30/100, grad_norm: 143.5874786376953, image_norm: 133.0818328857422, grad_mean_norm: 321.885009765625\n",
      "DDPM: 40/100, grad_norm: 144.8606414794922, image_norm: 134.3547821044922, grad_mean_norm: 322.5926208496094\n",
      "DDPM: 50/100, grad_norm: 148.32492065429688, image_norm: 135.3326416015625, grad_mean_norm: 316.9920959472656\n",
      "DDPM: 60/100, grad_norm: 157.81585693359375, image_norm: 136.10113525390625, grad_mean_norm: 315.10125732421875\n",
      "DDPM: 70/100, grad_norm: 180.4576416015625, image_norm: 136.47433471679688, grad_mean_norm: 317.5303955078125\n",
      "DDPM: 80/100, grad_norm: 235.24649047851562, image_norm: 136.48133850097656, grad_mean_norm: 320.3026123046875\n",
      "DDPM: 90/100, grad_norm: 406.8540954589844, image_norm: 136.8799591064453, grad_mean_norm: 313.8261413574219\n",
      "DDPM: 100/100, grad_norm: 3183.370849609375, image_norm: 137.93020629882812, grad_mean_norm: 301.7370910644531\n"
     ]
    }
   ],
   "source": [
    "pred = sampler(init, scorenet, cond=cond, cond_mask=cond_mask, subsample=100, verbose=True)"
   ]
  },
  {
   "cell_type": "code",
   "execution_count": 17,
   "id": "863bd8c0-ab1d-4214-b023-37a70cb17de8",
   "metadata": {},
   "outputs": [],
   "source": [
    "predicted_videos = [wandb.Video(video) for video in np.expand_dims(pred.numpy().astype(\"uint8\"), 2)]\n",
    "real_videos = [wandb.Video(video) for video in np.expand_dims(real.numpy().astype(\"uint8\"), 2)]"
   ]
  },
  {
   "cell_type": "code",
   "execution_count": 18,
   "id": "b13f60de-ea36-449a-ab57-7004a397a398",
   "metadata": {},
   "outputs": [],
   "source": [
    "wandb.log({\n",
    "    \"Real-Videos\": real_videos,\n",
    "    \"Initial-Videos\": initial_videos,\n",
    "    \"Predicted-Videos\": predicted_videos\n",
    "})"
   ]
  },
  {
   "cell_type": "code",
   "execution_count": 19,
   "id": "b39e29d0-dadd-4eeb-bc13-1b410b96016a",
   "metadata": {},
   "outputs": [
    {
     "data": {
      "text/html": [
       "Waiting for W&B process to finish... <strong style=\"color:green\">(success).</strong>"
      ],
      "text/plain": [
       "<IPython.core.display.HTML object>"
      ]
     },
     "metadata": {},
     "output_type": "display_data"
    },
    {
     "name": "stderr",
     "output_type": "stream",
     "text": [
      "wandb: Network error (ConnectTimeout), entering retry loop.\n",
      "wandb: Network error (ConnectTimeout), entering retry loop.\n",
      "wandb: Network error (ConnectTimeout), entering retry loop.\n",
      "wandb: Network error (ConnectTimeout), entering retry loop.\n"
     ]
    },
    {
     "data": {
      "text/html": [
       " View run <strong style=\"color:#cdcd00\">wandering-dust-37</strong> at: <a href=\"https://wandb.ai/wandb/masked-conditional-video-diffusion/runs/ny87oxbj\" target=\"_blank\">https://wandb.ai/wandb/masked-conditional-video-diffusion/runs/ny87oxbj</a><br/>Synced 6 W&B file(s), 129 media file(s), 0 artifact file(s) and 0 other file(s)"
      ],
      "text/plain": [
       "<IPython.core.display.HTML object>"
      ]
     },
     "metadata": {},
     "output_type": "display_data"
    },
    {
     "data": {
      "text/html": [
       "Find logs at: <code>./wandb/run-20230117_141544-ny87oxbj/logs</code>"
      ],
      "text/plain": [
       "<IPython.core.display.HTML object>"
      ]
     },
     "metadata": {},
     "output_type": "display_data"
    }
   ],
   "source": [
    "wandb.finish()"
   ]
  },
  {
   "cell_type": "code",
   "execution_count": 32,
   "id": "5315a64a-182d-4170-8ae6-590e150b9e11",
   "metadata": {},
   "outputs": [
    {
     "data": {
      "text/plain": [
       "(64, 64)"
      ]
     },
     "execution_count": 32,
     "metadata": {},
     "output_type": "execute_result"
    }
   ],
   "source": [
    "pred.numpy()[0][0].shape"
   ]
  },
  {
   "cell_type": "code",
   "execution_count": 33,
   "id": "0b85efd6-63b4-41e3-8c3b-937c0fef9b85",
   "metadata": {},
   "outputs": [],
   "source": [
    "plt.imshow(pred.numpy()[0][0])\n",
    "plt.show()"
   ]
  },
  {
   "cell_type": "code",
   "execution_count": 22,
   "id": "881fc304",
   "metadata": {},
   "outputs": [
    {
     "name": "stdout",
     "output_type": "stream",
     "text": [
      "torch.Size([64, 5, 64, 64])\n"
     ]
    },
    {
     "data": {
      "text/html": [
       "<table class=\"show_images\" style=\"border-spacing:0px;\"><tr><td style=\"padding:1px;\"><img width=\"64\" height=\"64\" style=\"image-rendering:pixelated; object-fit:cover;\" src=\"data:image/png;base64,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\"/></td><td style=\"padding:1px;\"><img width=\"64\" height=\"64\" style=\"image-rendering:pixelated; object-fit:cover;\" src=\"data:image/png;base64,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\"/></td><td style=\"padding:1px;\"><img width=\"64\" height=\"64\" style=\"image-rendering:pixelated; object-fit:cover;\" src=\"data:image/png;base64,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\"/></td><td style=\"padding:1px;\"><img width=\"64\" height=\"64\" style=\"image-rendering:pixelated; object-fit:cover;\" src=\"data:image/png;base64,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\"/></td><td style=\"padding:1px;\"><img width=\"64\" height=\"64\" style=\"image-rendering:pixelated; object-fit:cover;\" src=\"data:image/png;base64,iVBORw0KGgoAAAANSUhEUgAAAEAAAABACAIAAAAlC+aJAAAFf0lEQVR4nO3Y32vTXBgH8Pw4WTTNOllx7brimMy125jiuk2c07IOxa04URFElIF4IU4vBP8FLwUvvXB/gOBAcG52xRbn4qZBaqduiBtpXLqWWdea2qZpfr0XhfHiy/sa69v2Jp+rwAnPeb6cJJwTCDIYDAaDwWAwGAwlgiszDYIgVqu1q6urpaUln89DECQIwufPnxmG4XleVdXKtFE6kiTPnTv3/Plznuc5juM4bmVl5cGDBz6fr76+/k8qg/+rxf9GkqTL5WpvbxcEoaampq6urrGx0el01tfXy7L86tWrTCZTWuUKBUgmk36/XxTFuro6HMfPnz/f1NQEABgeHgYASJIUDAYr00npUBTdsWOHyWRqbm5eXFzM5XKqqmaz2bt37xIEUe3u9CFJ0uPxTE5Ofv/+XVGUTCYzMTHR19cHwxX6lvwRkiRHRkZmZ2dTqZSiKKFQ6M6dOwMDAyaT6U/KVuIdgGEYRdGmpqb+/v6hoSEEQSAIYhhmbm6OYRgMw3bt2qWqqqIomqYpiiJJkv4PayXWjiCI3t7ea9eunT17tqam5qfRTCYjy3Iikfj48SPHcWtra0+ePGFZtgKN6YLjuNvtnpmZ2dra0v5FOp1OJBKxWCwej0ej0YcPH1osluJC/VLZH6Hm5ubLly8fPny4trZW0zQYhiVJwjBs+4ZIJHL//n2WZXfv3n3ixAmfz7d///6urq75+Xk9D1IZA8Aw3NnZefHixVOnTpEkKcvy4uIiTdM0TafT6cHBwdOnT7e2tloslj179kxMTOA4bjabvV4vBEHF5dIzSxkDtLS0nDlz5sKFCzabbXV19fXr10+fPl1YWEgkEqqqUhS1sbFx9epVl8s1ODj45s2bQCCAoiiGYYVCgeM4ne9xGQM4nU63242iKEVRfr//8ePHX758KRQKxdFsNjs9Pe1yuRwOR1tb29jYmMPhcLvdAIBYLLZ92y+VMQDP8+/evfvw4cPMzAxFUT+Napq2vr4eCATa2to8Hs/Bgwf7+vo0Tdvc3Jydnf3x44fOWcoYgKKof/b9dyiKms1mkiSLFziOEwQRCoUWFhb0z1KhzdxPdu7c2dHR0dPTMzo62traurm5abVac7nc6urqs2fP3r59q79URQMUN9IEQRw6dGh4eHhoaMhut7MsG4lEvF4vhmFLS0t+v1+WZf01yxsARVGLxVJbWyuKoiRJjY2Nvb29drt9fHycIAhBEFiWffToEUVRFovF4XDQNM0wzG9NUcYACII0NDRcuXLF6/UyDMNxXE9Pz8mTJxEEkWU5HA6/fPkyFAotLy+Pj4/v3bt3enp6amoqm83+1ixlDIDj+I0bN8bGxhoaGvr7+zVNQ1G02D1N07du3VpeXlYUpb29/fjx4zabzWQydXd3d3d3K4qSSqUCgYAkSVULAMMwhmGdnZ1msxkAAADI5/Mcx71//97v99M0/enTJwDAgQMHRkdHrVYrgiA+n8/j8WiaVigUVlZW5ubmqhlA0zRVVZPJZCKRWFpaCofD8Xg8mUyur69vbGykUimSJAcGBm7evHns2DEAgCAIkiRJkpTNZvP5PM/zOrcSZdxOAwCOHDnicDii0SjLsjzPi6IoimJx9OjRo/fu3du3bx+O4yiK0jQ9Pz//4sWLcDicy+WK5zWdGarD6XTevn370qVLwWAwHo9fv37dZrNhGIYgCAzD+g+Zuvbc5RCNRicnJxVF6ejoyOfzDMN8/fq1eBYrHhJ01qlaAFEUM5mM3W4nSTIWi6XTaUVRSqhTtQAQBCEIYjKZYBheW1sr+cdWNQNs29ra2n65f1c1A6iqyvP8t2/f4vF48Y9vCaoZQBCESCQyNTUVDAaTyWQVOzEYDAaDwWAwGAwGQwn+Aoc0t05SdIDKAAAAAElFTkSuQmCC\"/></td><td style=\"padding:1px;\"><img width=\"64\" height=\"64\" style=\"image-rendering:pixelated; object-fit:cover;\" src=\"data:image/png;base64,iVBORw0KGgoAAAANSUhEUgAAAEAAAABACAIAAAAlC+aJAAAE5UlEQVR4nO3YT0jbbBgA8Pxp1tnGyjzUf1uLTuwqFgaisFFbNyZiZSKIniaCsA1kOwj16HHCxrwoeNoGY+dCYULpYHHFdVahrhuCUom1XbW1SZ2mtmls/nyHgoztm1+jNgpffsf04Xmfp3nfN28CADKZTCaTyWT/X6D0Q0IQVFFRYTKZamtrs9ksAAA0Ta+vr4dCIYqieJ6XviRxUBTt6+v7+PEjRVHRaDQaja6urr569aq7u7u8vFxsNkUxSjweiqI3btwwGo00TV+6dKmsrKyqqspgMJSXl7Ms++XLl1QqVXi2c2iAJEm3280wTFlZmVKp7O/vr6mpUSgUXV1dCoUil8thGCZ9VeLAMHz58mW1Wq3X630+XyaT4Xk+nU5PTk6qVKrzrq4wKIparVaHw7G/v89xXCqVev36dWtrKwiew74iGoqiNpvtw4cPP3/+5Dhubm7u2bNnZrNZrVaLTVWsNQCCIAzDCIIAAMDzPM/zEAQhCKJQKAAA0Ol0d+7c6ejoyAcHg8HZ2dnv37+n02mxAxWrgZKSkpaWlp6eHgAAVldXSZKsqam5d+9ee3u7IAhXrlz5NfjRo0e7u7skSYZCIZZli1SSCEqlsrm52eVyxePxRCIRiUQ2NjbC4XA8Ho/H44FAYH9/X/jD1NSUyWSCYVjUWEW5A3q9fnBw8NatW6WlpfkrgUDA4/GsrKxsbW3RNK1SqSAIUiqVt2/fttvt+ZinT58eHh5OT0+Hw+FiVFUQEASbmpomJiZwHGdZlmEYj8fz8uXL/v5+o9Go0Wh+i9doNC9evDi6Cdvb2xMTE/mVcz7q6urGx8c3NjYymcza2trbt28HBgauXbuGIMi/7o9qtXp0dJSmaUEQotFoLpdbWFjo7e0tfMQznkIGg6G5uRmGYa/X63a7nU5nJBI5PDz8W3xDQ4PJZGIY5sePHz6f7/79+w0NDUNDQwRBLC4uFrKgz7gBiqICgcDKyorL5fJ6vccHgyBoNpstFsvOzs6bN2+CwWB1dbXVar1582ZbW5vf7z+HBrxe73/WfQRFUaPRqNfr5+fnl5aWdDodiqIwDEMQFIvFCjxXn8Nh7sjg4GBbW1ssFiMIorGx0Waz1dfXJxKJhYWF+fn5C/FAOIZOp8MwLL/5LC8vRyIRlmVxHJ+Zmens7LyIJyIYhrVa7fXr169evVpRUfHw4cNfn2IEQeA4/vz586qqKlFpJZpCEARptdrh4eG7d+9ubm4mk8mxsbGjX/1+/6dPnzAM8/v9iURCVGaJGlAqlU+ePBkaGtJqtRaLJX+kO+Lz+dbX1xEE2dvbEwRBmpJEAEFQo9E4nc6Dg4M/j0CCICSTSRzH379/j6Ko2ORS3AFBEHieJ0ky/xL820lha2trb2+PpmmKok7w90s0hbLZ7Lt371iWffz48dFFn8/3+fNnj8fz9evXTCbDcVwmk5GmnhMyGAx2u/3BgwcYhsVisZGRkcrKSgRBIAgCQfBkWyd05lUeY3Nz0+FwcBzX2NiYzWZDoRBBELlcjuf5/GI4QU5JG2AYJpVKVVdXoyian/ocx50yp6QNAAAAQZBarQZBEMdxUR+w/prw9ClOZnd3l2GY0+eRugGe5ymKSiaTsVgs/2X3lKRugKbpb9++zc7OYhhGkqTEo8tkMplMJpPJZDKZTCa7OP4BpfJ5ybQ+MWMAAAAASUVORK5CYII=\"/></td><td style=\"padding:1px;\"><img width=\"64\" height=\"64\" style=\"image-rendering:pixelated; object-fit:cover;\" src=\"data:image/png;base64,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\"/></td><td style=\"padding:1px;\"><img width=\"64\" height=\"64\" style=\"image-rendering:pixelated; object-fit:cover;\" src=\"data:image/png;base64,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\"/></td><td style=\"padding:1px;\"><img width=\"64\" height=\"64\" style=\"image-rendering:pixelated; object-fit:cover;\" src=\"data:image/png;base64,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\"/></td><td style=\"padding:1px;\"><img width=\"64\" height=\"64\" style=\"image-rendering:pixelated; object-fit:cover;\" src=\"data:image/png;base64,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\"/></td></tr></table>"
      ],
      "text/plain": [
       "<IPython.core.display.HTML object>"
      ]
     },
     "metadata": {},
     "output_type": "display_data"
    },
    {
     "data": {
      "text/html": [
       "<table class=\"show_images\" style=\"border-spacing:0px;\"><tr><td style=\"padding:1px;\"><img width=\"64\" height=\"64\" style=\"image-rendering:pixelated; object-fit:cover;\" src=\"data:image/png;base64,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\"/></td><td style=\"padding:1px;\"><img width=\"64\" height=\"64\" style=\"image-rendering:pixelated; object-fit:cover;\" src=\"data:image/png;base64,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\"/></td><td style=\"padding:1px;\"><img width=\"64\" height=\"64\" style=\"image-rendering:pixelated; object-fit:cover;\" src=\"data:image/png;base64,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\"/></td><td style=\"padding:1px;\"><img width=\"64\" height=\"64\" style=\"image-rendering:pixelated; object-fit:cover;\" src=\"data:image/png;base64,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\"/></td><td style=\"padding:1px;\"><img width=\"64\" height=\"64\" style=\"image-rendering:pixelated; object-fit:cover;\" src=\"data:image/png;base64,iVBORw0KGgoAAAANSUhEUgAAAEAAAABACAIAAAAlC+aJAAAFf0lEQVR4nO3Y32vTXBgH8Pw4WTTNOllx7brimMy125jiuk2c07IOxa04URFElIF4IU4vBP8FLwUvvXB/gOBAcG52xRbn4qZBaqduiBtpXLqWWdea2qZpfr0XhfHiy/sa69v2Jp+rwAnPeb6cJJwTCDIYDAaDwWAwGAwlgiszDYIgVqu1q6urpaUln89DECQIwufPnxmG4XleVdXKtFE6kiTPnTv3/Plznuc5juM4bmVl5cGDBz6fr76+/k8qg/+rxf9GkqTL5WpvbxcEoaampq6urrGx0el01tfXy7L86tWrTCZTWuUKBUgmk36/XxTFuro6HMfPnz/f1NQEABgeHgYASJIUDAYr00npUBTdsWOHyWRqbm5eXFzM5XKqqmaz2bt37xIEUe3u9CFJ0uPxTE5Ofv/+XVGUTCYzMTHR19cHwxX6lvwRkiRHRkZmZ2dTqZSiKKFQ6M6dOwMDAyaT6U/KVuIdgGEYRdGmpqb+/v6hoSEEQSAIYhhmbm6OYRgMw3bt2qWqqqIomqYpiiJJkv4PayXWjiCI3t7ea9eunT17tqam5qfRTCYjy3Iikfj48SPHcWtra0+ePGFZtgKN6YLjuNvtnpmZ2dra0v5FOp1OJBKxWCwej0ej0YcPH1osluJC/VLZH6Hm5ubLly8fPny4trZW0zQYhiVJwjBs+4ZIJHL//n2WZXfv3n3ixAmfz7d///6urq75+Xk9D1IZA8Aw3NnZefHixVOnTpEkKcvy4uIiTdM0TafT6cHBwdOnT7e2tloslj179kxMTOA4bjabvV4vBEHF5dIzSxkDtLS0nDlz5sKFCzabbXV19fXr10+fPl1YWEgkEqqqUhS1sbFx9epVl8s1ODj45s2bQCCAoiiGYYVCgeM4ne9xGQM4nU63242iKEVRfr//8ePHX758KRQKxdFsNjs9Pe1yuRwOR1tb29jYmMPhcLvdAIBYLLZ92y+VMQDP8+/evfvw4cPMzAxFUT+Napq2vr4eCATa2to8Hs/Bgwf7+vo0Tdvc3Jydnf3x44fOWcoYgKKof/b9dyiKms1mkiSLFziOEwQRCoUWFhb0z1KhzdxPdu7c2dHR0dPTMzo62traurm5abVac7nc6urqs2fP3r59q79URQMUN9IEQRw6dGh4eHhoaMhut7MsG4lEvF4vhmFLS0t+v1+WZf01yxsARVGLxVJbWyuKoiRJjY2Nvb29drt9fHycIAhBEFiWffToEUVRFovF4XDQNM0wzG9NUcYACII0NDRcuXLF6/UyDMNxXE9Pz8mTJxEEkWU5HA6/fPkyFAotLy+Pj4/v3bt3enp6amoqm83+1ixlDIDj+I0bN8bGxhoaGvr7+zVNQ1G02D1N07du3VpeXlYUpb29/fjx4zabzWQydXd3d3d3K4qSSqUCgYAkSVULAMMwhmGdnZ1msxkAAADI5/Mcx71//97v99M0/enTJwDAgQMHRkdHrVYrgiA+n8/j8WiaVigUVlZW5ubmqhlA0zRVVZPJZCKRWFpaCofD8Xg8mUyur69vbGykUimSJAcGBm7evHns2DEAgCAIkiRJkpTNZvP5PM/zOrcSZdxOAwCOHDnicDii0SjLsjzPi6IoimJx9OjRo/fu3du3bx+O4yiK0jQ9Pz//4sWLcDicy+WK5zWdGarD6XTevn370qVLwWAwHo9fv37dZrNhGIYgCAzD+g+Zuvbc5RCNRicnJxVF6ejoyOfzDMN8/fq1eBYrHhJ01qlaAFEUM5mM3W4nSTIWi6XTaUVRSqhTtQAQBCEIYjKZYBheW1sr+cdWNQNs29ra2n65f1c1A6iqyvP8t2/f4vF48Y9vCaoZQBCESCQyNTUVDAaTyWQVOzEYDAaDwWAwGAwGQwn+Aoc0t05SdIDKAAAAAElFTkSuQmCC\"/></td><td style=\"padding:1px;\"><img width=\"64\" height=\"64\" style=\"image-rendering:pixelated; object-fit:cover;\" src=\"data:image/png;base64,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\"/></td><td style=\"padding:1px;\"><img width=\"64\" height=\"64\" style=\"image-rendering:pixelated; object-fit:cover;\" src=\"data:image/png;base64,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\"/></td><td style=\"padding:1px;\"><img width=\"64\" height=\"64\" style=\"image-rendering:pixelated; object-fit:cover;\" src=\"data:image/png;base64,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\"/></td><td style=\"padding:1px;\"><img width=\"64\" height=\"64\" style=\"image-rendering:pixelated; object-fit:cover;\" src=\"data:image/png;base64,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\"/></td><td style=\"padding:1px;\"><img width=\"64\" height=\"64\" style=\"image-rendering:pixelated; object-fit:cover;\" src=\"data:image/png;base64,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\"/></td></tr></table>"
      ],
      "text/plain": [
       "<IPython.core.display.HTML object>"
      ]
     },
     "metadata": {},
     "output_type": "display_data"
    }
   ],
   "source": [
    "print(pred.shape)\n",
    "i = 1\n",
    "media.show_images(torch.cat([cond[i], real[i]]))\n",
    "media.show_images(torch.cat([cond[i], pred[i]]))"
   ]
  },
  {
   "cell_type": "code",
   "execution_count": 26,
   "id": "7937cd9f",
   "metadata": {},
   "outputs": [
    {
     "data": {
      "text/html": [
       "<table class=\"show_images\" style=\"border-spacing:0px;\"><tr><td style=\"padding:1px;\"><img width=\"64\" height=\"64\" style=\"image-rendering:pixelated; object-fit:cover;\" src=\"data:image/png;base64,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\"/></td><td style=\"padding:1px;\"><img width=\"64\" height=\"64\" style=\"image-rendering:pixelated; object-fit:cover;\" src=\"data:image/png;base64,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\"/></td><td style=\"padding:1px;\"><img width=\"64\" height=\"64\" style=\"image-rendering:pixelated; object-fit:cover;\" src=\"data:image/png;base64,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\"/></td><td style=\"padding:1px;\"><img width=\"64\" height=\"64\" style=\"image-rendering:pixelated; object-fit:cover;\" src=\"data:image/png;base64,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\"/></td><td style=\"padding:1px;\"><img width=\"64\" height=\"64\" style=\"image-rendering:pixelated; object-fit:cover;\" src=\"data:image/png;base64,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\"/></td><td style=\"padding:1px;\"><img width=\"64\" height=\"64\" style=\"image-rendering:pixelated; object-fit:cover;\" src=\"data:image/png;base64,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\"/></td><td style=\"padding:1px;\"><img width=\"64\" height=\"64\" style=\"image-rendering:pixelated; object-fit:cover;\" src=\"data:image/png;base64,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\"/></td><td style=\"padding:1px;\"><img width=\"64\" height=\"64\" style=\"image-rendering:pixelated; object-fit:cover;\" src=\"data:image/png;base64,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\"/></td><td style=\"padding:1px;\"><img width=\"64\" height=\"64\" style=\"image-rendering:pixelated; object-fit:cover;\" src=\"data:image/png;base64,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\"/></td><td style=\"padding:1px;\"><img width=\"64\" height=\"64\" style=\"image-rendering:pixelated; object-fit:cover;\" src=\"data:image/png;base64,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\"/></td></tr></table>"
      ],
      "text/plain": [
       "<IPython.core.display.HTML object>"
      ]
     },
     "metadata": {},
     "output_type": "display_data"
    },
    {
     "data": {
      "text/html": [
       "<table class=\"show_images\" style=\"border-spacing:0px;\"><tr><td style=\"padding:1px;\"><img width=\"64\" height=\"64\" style=\"image-rendering:pixelated; object-fit:cover;\" src=\"data:image/png;base64,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\"/></td><td style=\"padding:1px;\"><img width=\"64\" height=\"64\" style=\"image-rendering:pixelated; object-fit:cover;\" src=\"data:image/png;base64,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\"/></td><td style=\"padding:1px;\"><img width=\"64\" height=\"64\" style=\"image-rendering:pixelated; object-fit:cover;\" src=\"data:image/png;base64,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\"/></td><td style=\"padding:1px;\"><img width=\"64\" height=\"64\" style=\"image-rendering:pixelated; object-fit:cover;\" src=\"data:image/png;base64,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\"/></td><td style=\"padding:1px;\"><img width=\"64\" height=\"64\" style=\"image-rendering:pixelated; object-fit:cover;\" src=\"data:image/png;base64,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\"/></td><td style=\"padding:1px;\"><img width=\"64\" height=\"64\" style=\"image-rendering:pixelated; object-fit:cover;\" src=\"data:image/png;base64,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\"/></td><td style=\"padding:1px;\"><img width=\"64\" height=\"64\" style=\"image-rendering:pixelated; object-fit:cover;\" src=\"data:image/png;base64,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\"/></td><td style=\"padding:1px;\"><img width=\"64\" height=\"64\" style=\"image-rendering:pixelated; object-fit:cover;\" src=\"data:image/png;base64,iVBORw0KGgoAAAANSUhEUgAAAEAAAABACAIAAAAlC+aJAAAIdElEQVR4nO1ayU8T7x+ed96uIx1ogYDFAmWpMYSANsQIbjFGwC0uKInGi/HkwYP+B17Vu3+CinjACDGKCEiQEDRw0MgBKKW02NLp3mHW7+ENk3GmttPW9ffzOZAZ5p3P8ryfbV7AAADYNuTX6ts/EH+uhX+uZT8Wf7Gfv9n0v5i5YqB2+/+UiD8M/3ahEAAAfg9xP1YrkKEw4XnTAAAQRTFfNYrXcyrNSwWelwVFWp/9kbQgL1p1BRtUABT0AwBwHIcQ4jiOqEEXHMcJgiAIgha+NPkqbX12iYoF8ls1qXq93uFwdHV1nTx5srW11Wg0QggBAOFweHZ29tmzZ2NjYyzLYt9uu9qG3A5IutXhq8WrjHLa29t7e3t7enpqamo4joMQrq+v4zjOMAxaFg6Hx8fHHz58yHFcdvmZQyijWdk7uSJBv6cVAHDgwIGbN2+2tbUBAObm5mZmZrxebzAY5DiO53kIYXl5eWdnZ29vbzAYHBgY4Hk+bwfk6iWav5dbGZNPHU7owmQyXb169dixYx6PZ2ho6N27d8vLyxRF0TQtrScIgiCIo0ePtra2Dg4OZnEAAJA7ieUJoKZZMlRL6dDpdE6n8/jx44lE4smTJwMDAz6fT00NjuMYhqXT6eXl5Zxic5dRZJ/CB8VTjUIIgjhz5kxFRcXU1NTIyIjP58NUnkMIGxsb3W53MpkcGxvjOC672NwOyIt0xsBAPxWeKGsFABiGmc3m69evi6I4PT3t9/szKqqpqUH5TdP08vJyToJyhJBer7fZbHa7nef5QCCQSqVompYHpboHSRGl1g0hrKqqSiaTa2tryWQyo4fnz5/v7+9nGOb169c4jmfP4BwOAABMJtO+fftu3LiRTqdHR0c9Ho/f708mk6jRbG1tpdNplmV5ns9OlSiKEEKCIHw+n9Vqra2tLSsroygKxSSO4yaTqba29ty5cxcvXqyvrx8eHn78+HFO63M4IIpiOp2GELrd7urq6kuXLoXD4c+fP6+urkYiEYqilpaW/H5/IBCgKCoejzMMI4qiKIo8zwuCILEg+cZxnNfrtdvtt27dam9v//DhA03TjY2Ne/bssVqtdrvdZrOVl5f7fL6FhYVoNIrlyrHcwxwAgCTJI0eOPHjwwG6363Q6nueRTSzLsiwLIcQwjKKoQCAQDod5nmdZdnV1dWRkRJGCAACLxdLb23vnzp3m5maWZSmK4jhux44dZrM5FovNz8+7XK6Ghob379/fu3fv1atXiI4CdwBZKYpiIpGYmZm5e/fu/v37rVar2+2ur683GAwGg0GqSyUlJdXV1RzHAQAEQYjH4y0tLQsLC8FgUDICiRodHQUAtLW1VVZWQgg5jkun0+vr636/f2Fhoa+vr7+/f3NzMxAIaLE+mwPSyzzPh0KhFy9ezM7O6vX69vb2CxcudHR0kCTJsqzf7w+FQjzPl5aWVldXV1RUGAwGgiC2trZIktzc3JRvgiAIoVDo6dOnU1NTZWVlOI4LgkDT9MbGRiqV4jiuu7ub5/lUKpVOp7HvVAIFy5qmUZ7nKYqiKArDsNXVVY/H43K5SkpK0ul0MBhMJBIYhpWWlvb09HR3d9fU1KBvFIIgUEtSqOQ4bm1tbW1tTc4UCmaHw0EQRDKZRA4UtQMKSGqi0ejk5OTk5KSi/JtMJofDcejQIbT1iiopWY/Jai4KP3nlRY/QgK3RqhzrFF0M+7ZxyhlyOp0ul6u0tFQQBLRjkUhEUQcVYa0eoiKRCMMwJElaLBaNPT6HA4qBXkpHURTRB4e04PDhw52dnTabDQDAsixN09FoVCqmapnSi/LGF4/HUVZk3MCM0DTMKa4VxRcAoNfrOzo6amtrIYSiKIZCoaGhoVQq9T0W5QOcRA2EkCRJDMMSiUQqlVKbkXHCz2OYyzjDoT564sSJ1tZWi8WCrOE4bnNzUxE/6p4jbgPdGo3G8vJynufD4bB6BzJyIYqipiSWFwqp+RMEUVVV1dLS0tTUdO3aNZfLhTJPFEWj0ehwOLKPd/LIQTLLyspQMwmFQjRNazEsdxlVbJzVam1qanI6nTt37mxubt69e7fNZrNYLHV1dXq9HtsmNRaLoUEgp1j5TjY2Njqdzlgs5vP5tExBmJYdkBQYDIbm5ubTp0/v3bu3rq6usrKysrIShay0jGGY9fX1+fn50dHRiYmJLGVE/QjHcafTaTabZ2dnl5aWtFiPoLUP4Dje0NDQ19fX0tJiNBrRLzmO4zjOaDQi4jc2Nt68efPo0aOZmZl4PK6xDiIIgkBR1MTExMjIyMrKSsZ8zUugEnq93u12Dw4Oer3era2tWCy2uLg4Pj7+/PnzaDTKMAzDMMPDw2fPnkUzUgHnhAg4jv+Ugy2WZT9+/Hj//v3bt2+3tbWtrKy8fft2cXERTUcmk4mm6enp6enpaXSYUwAK9jkPBRDC+vr6rq4ul8sFIayoqDh16tTXr18ZhllaWrp8+TLYRmEGyV/XiDyOFlH39Xg8Xq8XBb3NZrty5QpJkhBCk8kk5Ya0Xrtw+Vt5OZDf4S627YYgCChYBUGQONPpdEWGgZjPUR+msRMrFEjXgiBEo9EvX74glejzMotujb7ltW9aO7HaAnQdiUQmJyfn5uZIknz58uXi4qIkV01kUUUwi1X5rf52lgYAmM3mgwcP7tq1a25u7tOnTwWXIEl+vn4W8hea7MHwk5j+HoragSy//A1Qfx9lXybdaqn6P69JFSv3F9CfJTHyLqPyN4swKT/5OabaYkyRgqeY6a1I/AUh9Cvwu+jHCpiF1Ch49vyHXwt1A/ldlvzD/xh+QCz9C8dC8ENY+8uo12RuxvFY46T9A9TnskoNHZb1O0t+Io19e6QMMv37hwIZF6hlKi7k72LffjnJz8kR/gMMrihr9ol+5gAAAABJRU5ErkJggg==\"/></td><td style=\"padding:1px;\"><img width=\"64\" height=\"64\" style=\"image-rendering:pixelated; object-fit:cover;\" src=\"data:image/png;base64,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\"/></td><td style=\"padding:1px;\"><img width=\"64\" height=\"64\" style=\"image-rendering:pixelated; object-fit:cover;\" src=\"data:image/png;base64,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\"/></td></tr></table>"
      ],
      "text/plain": [
       "<IPython.core.display.HTML object>"
      ]
     },
     "metadata": {},
     "output_type": "display_data"
    }
   ],
   "source": [
    "i = 4\n",
    "media.show_images(torch.cat([cond[i], real[i]]))\n",
    "media.show_images(torch.cat([cond[i], pred[i]]))"
   ]
  },
  {
   "cell_type": "code",
   "execution_count": null,
   "id": "f0f85ca1-3100-4d14-beeb-0b103ce4fcb7",
   "metadata": {},
   "outputs": [],
   "source": []
  }
 ],
 "metadata": {
  "environment": {
   "kernel": "python3",
   "name": "pytorch-gpu.1-12.m102",
   "type": "gcloud",
   "uri": "gcr.io/deeplearning-platform-release/pytorch-gpu.1-12:m102"
  },
  "kernelspec": {
   "display_name": "Python 3 (ipykernel)",
   "language": "python",
   "name": "python3"
  },
  "language_info": {
   "codemirror_mode": {
    "name": "ipython",
    "version": 3
   },
   "file_extension": ".py",
   "mimetype": "text/x-python",
   "name": "python",
   "nbconvert_exporter": "python",
   "pygments_lexer": "ipython3",
   "version": "3.7.12"
  }
 },
 "nbformat": 4,
 "nbformat_minor": 5
}
